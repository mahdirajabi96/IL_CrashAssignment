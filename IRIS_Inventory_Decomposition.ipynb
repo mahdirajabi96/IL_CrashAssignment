{
 "cells": [
  {
   "cell_type": "code",
   "execution_count": 1,
   "metadata": {},
   "outputs": [
    {
     "name": "stdout",
     "output_type": "stream",
     "text": [
      "2018-09-11 11:17:23\n"
     ]
    }
   ],
   "source": [
    "# Importing requird python packages\n",
    "# Path to hsmpy package\n",
    "HSMPY_PATH = r'C:\\Users\\MR068144\\Downloads\\Python Scripts'\n",
    "import sys, os, arcpy, csv, json, math\n",
    "sys.path.append(HSMPY_PATH)\n",
    "import hsmpy3\n",
    "import matplotlib.pyplot as plt\n",
    "import numpy as np\n",
    "import pandas as pd\n",
    "from datetime import datetime\n",
    "from IPython.display import Image\n",
    "from IPython.core.display import HTML \n",
    "import subprocess \n",
    "import webbrowser\n",
    "import time\n",
    "import copy\n",
    "import shutil\n",
    "from time import gmtime, strftime\n",
    "from ipywidgets import FloatProgress\n",
    "print(strftime(\"%Y-%m-%d %H:%M:%S\"))"
   ]
  },
  {
   "cell_type": "code",
   "execution_count": 3,
   "metadata": {},
   "outputs": [
    {
     "name": "stdout",
     "output_type": "stream",
     "text": [
      "2018-09-11 11:17:23\n"
     ]
    }
   ],
   "source": [
    "# Defining Parameteres\n",
    "print(strftime(\"%Y-%m-%d %H:%M:%S\"))\n",
    "Years = range(2005,2017)\n",
    "MaxOpenProcesses = 15\n",
    "\n",
    "Project_DIR  = r'\\\\CHCFPP01\\Proj\\ILDOT\\650511SAFETYPROGRAM\\4_WorkData\\WO19\\HSIP_Tracking_Tool'\n",
    "Project_GDB  = Project_DIR + '\\\\2.Project_GDB.gdb'\n",
    "ContractsDir = Project_DIR + '\\\\4.Contracts_AnalysisFiles'\n",
    "DocumentsDir = Project_DIR + '\\\\5.Documents'\n",
    "PythonDir    = Project_DIR + '\\\\6.Python_Codes'\n",
    "ReceivedDir  = Project_DIR + '\\\\7.ReceivedData'\n",
    "XML_Dir      = ReceivedDir + '\\\\HSIP Candidate Applications'\n",
    "\n",
    "\n",
    "# IRIS Dataset\n",
    "IRISPath = r'\\\\CHCFPP01\\Proj\\ILDOT\\650511SAFETYPROGRAM\\7_BaseData\\Master_BaseFiles_Data\\5.0_Roadway_Layer\\IRIS'\n",
    "IRISPath = r'C:\\Users\\mr068144\\Downloads\\IL Data\\IRIS\\IL_IRIS.gdb'\n",
    "IRIS_Route = {y:os.path.join(IRISPath,'HWY'+str(y)+'_route') for y in Years}\n",
    "IRIS_Tab   = {y:os.path.join(IRISPath,'HWY'+str(y)+'_table_HCurve') for y in Years}\n",
    "IRIS_Tab[2012] = IRIS_Tab[2013]\n",
    "\n",
    "# Intersections Dataset\n",
    "IntPG = r'C:\\Users\\mr068144\\Downloads\\6.0_Intersection_Layer\\IRIS_Ints.gdb\\Int2014_PG'\n",
    "Intersections = {year:IntPG for year in Years}\n",
    "\n",
    "#Crash Dataset\n",
    "CrashData  = {y:os.path.abspath(r'C:\\Users\\mr068144\\Downloads\\IL Data\\IL Crash Data\\IL_Crash.gdb\\\\' +\n",
    "                          'CrashExtract_' + str(y) + '_GIS') for y in Years}\n",
    "\n",
    "Fields = ['AADT',\n",
    "          'O_SHD1_TYP','O_SHD1_WTH','O_SHD2_TYP','O_SHD2_WTH',\n",
    "          'I_SHD1_TYP','I_SHD1_WTH','I_SHD2_TYP','I_SHD2_WTH',\n",
    "          'LNS','LN_WTH','MED_TYP','MED_WTH','SURF_WTH','URBAN','PG','Radius','CurveLen']\n",
    "#Fields = ['AADT','URBAN','PG']\n",
    "RouteID = 'INVENTORY'\n",
    "BMP = 'BEG_STA'\n",
    "EMP = 'END_STA'\n",
    "\n",
    "# Geocoded projects\n",
    "HSIP_Int  = Project_GDB + '\\\\WPPS_Int'\n",
    "HSIP_Seg  = Project_GDB + '\\\\WPPS_Seg'\n",
    "\n",
    "HSIP_Path    = ReceivedDir + '\\\\HSIP_AllApprovedProjects.xlsm'\n",
    "WPPS_Ob_Path = ReceivedDir + '\\\\HSIP Contract and Obligation Data.xlsx'\n",
    "WPPS_Pr_Path = ReceivedDir + '\\\\HSIP Project Programmed Data.xlsx'\n",
    "SPF_Data     = ReceivedDir  + '\\\\SPF Coefficients.xlsx'"
   ]
  },
  {
   "cell_type": "code",
   "execution_count": 7,
   "metadata": {
    "scrolled": false
   },
   "outputs": [
    {
     "name": "stdout",
     "output_type": "stream",
     "text": [
      "Type: Polyline\n",
      "Columns: 4 x Rows: 214692\n",
      "['INVENTORY', 'OBJECTID', 'Shape', 'Shape_Length']\n",
      "{'Columns': ['INVENTORY', 'OBJECTID', 'Shape', 'Shape_Length'], 'ShapeType': 'Polyline', 'Rows': 214692}\n"
     ]
    },
    {
     "data": {
      "text/plain": [
       "['OBJECTID',\n",
       " 'INVENTORY',\n",
       " 'BEG_STA',\n",
       " 'END_STA',\n",
       " 'OBJECTID_1',\n",
       " 'AADT',\n",
       " 'AADT_YR',\n",
       " 'AADT_EST',\n",
       " 'ACC_CNTL',\n",
       " 'BLT',\n",
       " 'CH',\n",
       " 'CO_ADJ',\n",
       " 'CONG',\n",
       " 'CONG_ADJ',\n",
       " 'CRS_LOW',\n",
       " 'CRS_OPP',\n",
       " 'CRS_WITH',\n",
       " 'CRS_YR',\n",
       " 'DIST',\n",
       " 'DTRESS_OPP',\n",
       " 'DTRESS_WTH',\n",
       " 'FAULT_LOW',\n",
       " 'FAULT_OPP',\n",
       " 'FAULT_WITH',\n",
       " 'FC',\n",
       " 'HCV',\n",
       " 'HCV_MU_YR',\n",
       " 'I_SHD1_TYP',\n",
       " 'I_SHD1_WTH',\n",
       " 'I_SHD2_TYP',\n",
       " 'I_SHD2_WTH',\n",
       " 'INV_CO',\n",
       " 'IRI_LOW',\n",
       " 'IRI_OPP',\n",
       " 'IRI_WITH',\n",
       " 'JUR_1',\n",
       " 'JUR_2',\n",
       " 'JUR_TYPE',\n",
       " 'KEY_RT_APN',\n",
       " 'KEY_RT_APP',\n",
       " 'KEY_RT_NBR',\n",
       " 'KEY_RT_SEG',\n",
       " 'KEY_RT_SUF',\n",
       " 'KEY_RT_TYP',\n",
       " 'LN_SPC',\n",
       " 'LN_SPC_NBR',\n",
       " 'LN_SPC_WTH',\n",
       " 'LN_WTH',\n",
       " 'LNS',\n",
       " 'MAINT_TYPE',\n",
       " 'MARKED_RT',\n",
       " 'MARKED_RT2',\n",
       " 'MARKED_RT3',\n",
       " 'MARKED_RT4',\n",
       " 'MED_TYP',\n",
       " 'MED_WTH',\n",
       " 'MNT_1',\n",
       " 'MNT_2',\n",
       " 'MNT_DIST',\n",
       " 'MNT_SECT',\n",
       " 'MRK_RT_TY2',\n",
       " 'MRK_RT_TY3',\n",
       " 'MRK_RT_TY4',\n",
       " 'MRK_RT_TYP',\n",
       " 'MU_VOL',\n",
       " 'MU_EST',\n",
       " 'MUNI',\n",
       " 'MUNI_ADJ',\n",
       " 'NHS',\n",
       " 'NON_ATTAIN',\n",
       " 'O_SHD1_TYP',\n",
       " 'O_SHD1_WTH',\n",
       " 'O_SHD2_TYP',\n",
       " 'O_SHD2_WTH',\n",
       " 'OP_1_2_WAY',\n",
       " 'PL_AGY',\n",
       " 'PL_AGY_ADJ',\n",
       " 'PRK_LT',\n",
       " 'PRK_RT',\n",
       " 'REP',\n",
       " 'REP_ADJ',\n",
       " 'ROAD_NAME',\n",
       " 'RUT_LOW',\n",
       " 'RUT_OPP',\n",
       " 'RUT_WITH',\n",
       " 'SEG_LENGTH',\n",
       " 'SP_LIM',\n",
       " 'SPEC_SYS',\n",
       " 'SU_VOL',\n",
       " 'SU_EST',\n",
       " 'SURF_TYP',\n",
       " 'SURF_WTH',\n",
       " 'SURF_YR',\n",
       " 'TOLL',\n",
       " 'TRK_RT',\n",
       " 'TWP',\n",
       " 'TWP_ADJ',\n",
       " 'URBAN',\n",
       " 'HPMS_SECT',\n",
       " 'MPO',\n",
       " 'LOC_ERROR',\n",
       " 'MUNI_NAME',\n",
       " 'TOWNSHIP_N',\n",
       " 'CNTYTWP',\n",
       " 'FCNAME',\n",
       " 'COUNTY_NAM',\n",
       " 'Shape_Leng',\n",
       " 'PG',\n",
       " 'Radius',\n",
       " 'CurveLen',\n",
       " 'Center_X',\n",
       " 'Center_Y',\n",
       " 'CMF_CH10',\n",
       " 'CMF_CH18']"
      ]
     },
     "execution_count": 7,
     "metadata": {},
     "output_type": "execute_result"
    }
   ],
   "source": [
    "print(hsmpy3.common.PrintSummary(IRIS_Route[2016]))\n",
    "[f.name for f in arcpy.ListFields(IRIS_Tab[2016])]"
   ]
  },
  {
   "cell_type": "code",
   "execution_count": 38,
   "metadata": {},
   "outputs": [
    {
     "name": "stdout",
     "output_type": "stream",
     "text": [
      "(635792, 9)\n"
     ]
    }
   ],
   "source": [
    "df = hsmpy3.common.FCtoDF(IRIS_Tab[2016],selectedFields=['INVENTORY','BEG_STA','END_STA',\n",
    "                                                    'INV_CO',\n",
    "                                                    'KEY_RT_SEG',\n",
    "                                                    'KEY_RT_TYP',\n",
    "                                                    'KEY_RT_NBR',\n",
    "                                                    'KEY_RT_SUF',\n",
    "                                                    'KEY_RT_APP',\n",
    "                                                   'KEY_RT_APN'])\n",
    "df.index = df.INVENTORY\n",
    "df['BMP'] = pd.DataFrame(df.groupby('INVENTORY')['BEG_STA'].aggregate(min)).loc[df.index]\n",
    "df['EMP'] = pd.DataFrame(df.groupby('INVENTORY')['END_STA'].aggregate(max)).loc[df.index]\n",
    "df = df[['BMP','EMP','INV_CO','KEY_RT_SEG','KEY_RT_TYP','KEY_RT_NBR','KEY_RT_SUF','KEY_RT_APP','KEY_RT_APN']]\n",
    "df = df.drop_duplicates()\n",
    "df.loc[df.KEY_RT_TYP==' ','KEY_RT_TYP'] = 0\n",
    "df.INV_CO = df.INV_CO.astype(int)\n",
    "df.KEY_RT_TYP = df.KEY_RT_TYP.astype(int)\n",
    "df.KEY_RT_NBR = df.KEY_RT_NBR.astype(int)\n",
    "df.KEY_RT_APP = df.KEY_RT_APP.astype(int)\n",
    "df.loc[df.KEY_RT_APN==' ','KEY_RT_APN'] = 0\n",
    "df.KEY_RT_APN = df.KEY_RT_APN.astype(int)\n",
    "print(df.shape)"
   ]
  },
  {
   "cell_type": "code",
   "execution_count": 34,
   "metadata": {
    "scrolled": false
   },
   "outputs": [
    {
     "data": {
      "image/png": "[encoded data removed]",
      "text/plain": [
       "<matplotlib.figure.Figure at 0x1bf76cc41d0>"
      ]
     },
     "metadata": {},
     "output_type": "display_data"
    },
    {
     "data": {
      "image/png": "[encoded data removed]",
      "text/plain": [
       "<matplotlib.figure.Figure at 0x1bf76b81e10>"
      ]
     },
     "metadata": {},
     "output_type": "display_data"
    },
    {
     "data": {
      "image/png": "[encoded data removed]",
      "text/plain": [
       "<matplotlib.figure.Figure at 0x1bf76a4d278>"
      ]
     },
     "metadata": {},
     "output_type": "display_data"
    },
    {
     "data": {
      "image/png": "[encoded data removed]",
      "text/plain": [
       "<matplotlib.figure.Figure at 0x1bf76934e80>"
      ]
     },
     "metadata": {},
     "output_type": "display_data"
    },
    {
     "data": {
      "image/png": "[encoded data removed]",
      "text/plain": [
       "<matplotlib.figure.Figure at 0x1bf76909d68>"
      ]
     },
     "metadata": {},
     "output_type": "display_data"
    },
    {
     "data": {
      "image/png": "[encoded data removed]",
      "text/plain": [
       "<matplotlib.figure.Figure at 0x1bf72b37748>"
      ]
     },
     "metadata": {},
     "output_type": "display_data"
    },
    {
     "data": {
      "image/png": "[encoded data removed]",
      "text/plain": [
       "<matplotlib.figure.Figure at 0x1bf709f7438>"
      ]
     },
     "metadata": {},
     "output_type": "display_data"
    }
   ],
   "source": [
    "df.INV_CO.value_counts().plot(kind='bar')\n",
    "plt.show()\n",
    "df.KEY_RT_SEG.value_counts().plot(kind='bar')\n",
    "plt.show()\n",
    "df.KEY_RT_TYP.value_counts().plot(kind='bar')\n",
    "plt.show()\n",
    "df.KEY_RT_NBR.value_counts().plot(kind='bar')\n",
    "plt.show()\n",
    "df.KEY_RT_SUF.value_counts().plot(kind='bar')\n",
    "plt.show()\n",
    "df.KEY_RT_APP.value_counts().plot(kind='bar')\n",
    "plt.show()\n",
    "df.KEY_RT_APN.value_counts().plot(kind='bar')\n",
    "plt.show()"
   ]
  },
  {
   "cell_type": "code",
   "execution_count": 67,
   "metadata": {},
   "outputs": [
    {
     "data": {
      "text/html": [
       "<div>\n",
       "<style>\n",
       "    .dataframe thead tr:only-child th {\n",
       "        text-align: right;\n",
       "    }\n",
       "\n",
       "    .dataframe thead th {\n",
       "        text-align: left;\n",
       "    }\n",
       "\n",
       "    .dataframe tbody tr th {\n",
       "        vertical-align: top;\n",
       "    }\n",
       "</style>\n",
       "<table border=\"1\" class=\"dataframe\">\n",
       "  <thead>\n",
       "    <tr style=\"text-align: right;\">\n",
       "      <th>HWY2016_table_HCurve</th>\n",
       "      <th>BMP</th>\n",
       "      <th>EMP</th>\n",
       "      <th>INV_CO</th>\n",
       "      <th>KEY_RT_SEG</th>\n",
       "      <th>KEY_RT_TYP</th>\n",
       "      <th>KEY_RT_NBR</th>\n",
       "      <th>KEY_RT_SUF</th>\n",
       "      <th>KEY_RT_APP</th>\n",
       "      <th>KEY_RT_APN</th>\n",
       "    </tr>\n",
       "    <tr>\n",
       "      <th>INVENTORY</th>\n",
       "      <th></th>\n",
       "      <th></th>\n",
       "      <th></th>\n",
       "      <th></th>\n",
       "      <th></th>\n",
       "      <th></th>\n",
       "      <th></th>\n",
       "      <th></th>\n",
       "      <th></th>\n",
       "    </tr>\n",
       "  </thead>\n",
       "  <tbody>\n",
       "    <tr>\n",
       "      <th>016  20345 000000</th>\n",
       "      <td>0.0</td>\n",
       "      <td>6.66</td>\n",
       "      <td>016</td>\n",
       "      <td></td>\n",
       "      <td>2</td>\n",
       "      <td>345</td>\n",
       "      <td></td>\n",
       "      <td>0</td>\n",
       "      <td>0</td>\n",
       "    </tr>\n",
       "    <tr>\n",
       "      <th>016  20345A000000</th>\n",
       "      <td>0.0</td>\n",
       "      <td>4.22</td>\n",
       "      <td>016</td>\n",
       "      <td></td>\n",
       "      <td>2</td>\n",
       "      <td>345</td>\n",
       "      <td>A</td>\n",
       "      <td>0</td>\n",
       "      <td>0</td>\n",
       "    </tr>\n",
       "    <tr>\n",
       "      <th>016  20345B000000</th>\n",
       "      <td>0.0</td>\n",
       "      <td>14.44</td>\n",
       "      <td>016</td>\n",
       "      <td></td>\n",
       "      <td>2</td>\n",
       "      <td>345</td>\n",
       "      <td>B</td>\n",
       "      <td>0</td>\n",
       "      <td>0</td>\n",
       "    </tr>\n",
       "    <tr>\n",
       "      <th>022  20345 000000</th>\n",
       "      <td>0.0</td>\n",
       "      <td>1.35</td>\n",
       "      <td>022</td>\n",
       "      <td></td>\n",
       "      <td>2</td>\n",
       "      <td>345</td>\n",
       "      <td></td>\n",
       "      <td>0</td>\n",
       "      <td>0</td>\n",
       "    </tr>\n",
       "    <tr>\n",
       "      <th>022  20345A000000</th>\n",
       "      <td>0.0</td>\n",
       "      <td>2.35</td>\n",
       "      <td>022</td>\n",
       "      <td></td>\n",
       "      <td>2</td>\n",
       "      <td>345</td>\n",
       "      <td>A</td>\n",
       "      <td>0</td>\n",
       "      <td>0</td>\n",
       "    </tr>\n",
       "    <tr>\n",
       "      <th>022  20345B000000</th>\n",
       "      <td>0.0</td>\n",
       "      <td>5.75</td>\n",
       "      <td>022</td>\n",
       "      <td></td>\n",
       "      <td>2</td>\n",
       "      <td>345</td>\n",
       "      <td>B</td>\n",
       "      <td>0</td>\n",
       "      <td>0</td>\n",
       "    </tr>\n",
       "    <tr>\n",
       "      <th>045  20345 000000</th>\n",
       "      <td>0.0</td>\n",
       "      <td>5.07</td>\n",
       "      <td>045</td>\n",
       "      <td></td>\n",
       "      <td>2</td>\n",
       "      <td>345</td>\n",
       "      <td></td>\n",
       "      <td>0</td>\n",
       "      <td>0</td>\n",
       "    </tr>\n",
       "    <tr>\n",
       "      <th>045  20345A000000</th>\n",
       "      <td>0.0</td>\n",
       "      <td>11.57</td>\n",
       "      <td>045</td>\n",
       "      <td></td>\n",
       "      <td>2</td>\n",
       "      <td>345</td>\n",
       "      <td>A</td>\n",
       "      <td>0</td>\n",
       "      <td>0</td>\n",
       "    </tr>\n",
       "  </tbody>\n",
       "</table>\n",
       "</div>"
      ],
      "text/plain": [
       "HWY2016_table_HCurve  BMP    EMP INV_CO KEY_RT_SEG  KEY_RT_TYP  KEY_RT_NBR  \\\n",
       "INVENTORY                                                                    \n",
       "016  20345 000000     0.0   6.66    016                      2         345   \n",
       "016  20345A000000     0.0   4.22    016                      2         345   \n",
       "016  20345B000000     0.0  14.44    016                      2         345   \n",
       "022  20345 000000     0.0   1.35    022                      2         345   \n",
       "022  20345A000000     0.0   2.35    022                      2         345   \n",
       "022  20345B000000     0.0   5.75    022                      2         345   \n",
       "045  20345 000000     0.0   5.07    045                      2         345   \n",
       "045  20345A000000     0.0  11.57    045                      2         345   \n",
       "\n",
       "HWY2016_table_HCurve KEY_RT_SUF  KEY_RT_APP  KEY_RT_APN  \n",
       "INVENTORY                                                \n",
       "016  20345 000000                         0           0  \n",
       "016  20345A000000             A           0           0  \n",
       "016  20345B000000             B           0           0  \n",
       "022  20345 000000                         0           0  \n",
       "022  20345A000000             A           0           0  \n",
       "022  20345B000000             B           0           0  \n",
       "045  20345 000000                         0           0  \n",
       "045  20345A000000             A           0           0  "
      ]
     },
     "execution_count": 67,
     "metadata": {},
     "output_type": "execute_result"
    }
   ],
   "source": [
    "df[(df.KEY_RT_TYP==2) & (df.KEY_RT_NBR==345) & (df.KEY_RT_APP==0)]"
   ]
  },
  {
   "cell_type": "code",
   "execution_count": 53,
   "metadata": {},
   "outputs": [],
   "source": []
  }
 ],
 "metadata": {
  "kernelspec": {
   "display_name": "Python 3",
   "language": "python",
   "name": "python3"
  },
  "language_info": {
   "codemirror_mode": {
    "name": "ipython",
    "version": 3
   },
   "file_extension": ".py",
   "mimetype": "text/x-python",
   "name": "python",
   "nbconvert_exporter": "python",
   "pygments_lexer": "ipython3",
   "version": "3.5.3"
  }
 },
 "nbformat": 4,
 "nbformat_minor": 2
}
