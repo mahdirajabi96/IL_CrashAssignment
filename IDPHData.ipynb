{
 "cells": [
  {
   "cell_type": "code",
   "execution_count": null,
   "metadata": {},
   "outputs": [],
   "source": [
    "RestAreas = r'https://data.illinois.gov/dataset/4877961a-770f-45c7-9cc9-987fc812f7d4/resource/4b745949-d01c-4252-83a9-9028844777a9/download/prest-areasrest-areas.csv'\n",
    "WinterRdCond = r'https://data.illinois.gov/dataset/3d68c398-0852-49a2-802b-4417e7a34ebb/resource/befaa005-2baf-47f6-8f44-312b585fcd1f/download/data.geojson'\n",
    "RdImp2011 = r'https://data.illinois.gov/dataset/b3ac0f0c-31e9-4078-a036-62664f31f8e5/resource/6e8b4267-7d74-44cd-8a6f-d0cd5f799304/download/data.csv'\n"
   ]
  }
 ],
 "metadata": {
  "kernelspec": {
   "display_name": "Python 3",
   "language": "python",
   "name": "python3"
  },
  "language_info": {
   "codemirror_mode": {
    "name": "ipython",
    "version": 3
   },
   "file_extension": ".py",
   "mimetype": "text/x-python",
   "name": "python",
   "nbconvert_exporter": "python",
   "pygments_lexer": "ipython3",
   "version": "3.5.3"
  }
 },
 "nbformat": 4,
 "nbformat_minor": 2
}
