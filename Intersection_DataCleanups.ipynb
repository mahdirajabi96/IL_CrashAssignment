{
 "cells": [
  {
   "cell_type": "code",
   "execution_count": 1,
   "metadata": {},
   "outputs": [
    {
     "name": "stdout",
     "output_type": "stream",
     "text": [
      "2018-12-19 11:20:55\n"
     ]
    }
   ],
   "source": [
    "# Importing requird python packages\n",
    "# Path to hsmpy package\n",
    "HSMPY_PATH = r'\\\\CHCFPP01\\Guest\\MRajabi\\Python Scripts'\n",
    "import sys, os, arcpy, csv, json, math\n",
    "sys.path.append(HSMPY_PATH)\n",
    "import hsmpy3\n",
    "import matplotlib.pyplot as plt\n",
    "import numpy as np\n",
    "import pandas as pd\n",
    "from datetime import datetime\n",
    "from IPython.display import Image\n",
    "from IPython.core.display import HTML \n",
    "import subprocess \n",
    "import webbrowser\n",
    "import time\n",
    "import copy\n",
    "import scipy\n",
    "from matplotlib.gridspec import GridSpec\n",
    "from mailmerge import MailMerge\n",
    "import shutil\n",
    "import openpyxl\n",
    "from scipy.optimize import curve_fit\n",
    "from time import gmtime, strftime\n",
    "from ipywidgets import FloatProgress\n",
    "print(strftime(\"%Y-%m-%d %H:%M:%S\"))"
   ]
  },
  {
   "cell_type": "code",
   "execution_count": 2,
   "metadata": {},
   "outputs": [
    {
     "name": "stdout",
     "output_type": "stream",
     "text": [
      "2018-12-19 11:20:55\n"
     ]
    }
   ],
   "source": [
    "Project_Dir = r'\\\\CHCFPP01\\Proj\\ILDOT\\650511SAFETYPROGRAM\\4_WorkData\\WO19\\IL_Crash_Assignment'\n",
    "SourceDir = Project_Dir + '\\\\IRIS_Original'\n",
    "OutputDir = Project_Dir + '\\\\IRIS_Cleaned'\n",
    "GDB = Project_Dir + '\\\\CrashData_Cleaned\\\\IL_SafetyDB.gdb'\n",
    "Int_GDB = r'\\\\CHCFPP01\\Proj\\ILDOT\\650511SAFETYPROGRAM\\4_WorkData\\WO19\\IL_Crash_Assignment\\Intersection_Original\\Int_Original.gdb'\n",
    "Int_FC = Int_GDB + '\\\\Intersection2014_361999_CleanedUpFall2018'\n",
    "print(strftime(\"%Y-%m-%d %H:%M:%S\"))"
   ]
  },
  {
   "cell_type": "code",
   "execution_count": 3,
   "metadata": {},
   "outputs": [
    {
     "name": "stdout",
     "output_type": "stream",
     "text": [
      "2018-11-26 15:32:41\n",
      "(361999, 28)\n"
     ]
    },
    {
     "name": "stderr",
     "output_type": "stream",
     "text": [
      "C:\\Program Files\\ArcGIS\\Pro\\bin\\Python\\envs\\arcgispro-py3\\lib\\site-packages\\pandas\\core\\indexing.py:179: SettingWithCopyWarning: \n",
      "A value is trying to be set on a copy of a slice from a DataFrame\n",
      "\n",
      "See the caveats in the documentation: http://pandas.pydata.org/pandas-docs/stable/indexing.html#indexing-view-versus-copy\n",
      "  self._setitem_with_indexer(indexer, value)\n"
     ]
    },
    {
     "name": "stdout",
     "output_type": "stream",
     "text": [
      "2018-11-26 15:43:52\n"
     ]
    }
   ],
   "source": [
    "print(strftime(\"%Y-%m-%d %H:%M:%S\"))\n",
    "Int_DF = hsmpy3.common.FCtoDF(Int_FC,readGeometry=True)\n",
    "print(Int_DF.shape)\n",
    "Int_DF = Int_DF[~Int_DF.PeerGroupText_CH2M_Updated_PGs_TCTs.isin(['State - Rural, Not an Intersection'])]\n",
    "Int_DF.TRAF_CONT = Int_DF.TRAF_CONT.astype(str)\n",
    "Int_DF.TRAF_CONT.loc[Int_DF.TRAF_CONT==' '] = '9'\n",
    "Int_DF.TRAF_CONT = Int_DF.TRAF_CONT.fillna('9')\n",
    "Int_DF.LEG_COUNT = Int_DF.LEG_COUNT.astype(int,errors='ignore')\n",
    "Int_DF['X'] = [s.firstPoint.X for s in Int_DF.Shape]\n",
    "Int_DF['Y'] = [s.firstPoint.Y for s in Int_DF.Shape]\n",
    "Int_DF.index = pd.MultiIndex.from_tuples([(i,m) for i,m in zip(Int_DF.INV,Int_DF.STA)],names=['RID','MP'])\n",
    "Int_DF.sort_index()\n",
    "Int_DF = Int_DF[['LEG_COUNT','TRAF_CONT','MajorRoadN', 'MinorRoadN', 'PeerGroupText_CH2M_Updated_PGs_TCTs','X','Y']]\n",
    "print(strftime(\"%Y-%m-%d %H:%M:%S\"))"
   ]
  },
  {
   "cell_type": "code",
   "execution_count": 4,
   "metadata": {},
   "outputs": [
    {
     "data": {
      "text/plain": [
       "Local - Rural, All-Way Stop Control         1546\n",
       "Local - Rural, Minor Leg Stop Control      31017\n",
       "Local - Rural, Signalized Intersection       347\n",
       "Local - Rural, Undetermined                67702\n",
       "Local - Urban, All-Way Stop Control         6924\n",
       "Local - Urban, Minor Leg Stop Control      62938\n",
       "Local - Urban, Signalized Intersection      8740\n",
       "Local - Urban, Undetermined               136553\n",
       "State - Rural, All-Way Stop Control          210\n",
       "State - Rural, Minor Leg Stop Control      17781\n",
       "State - Rural, Signalized Intersection       108\n",
       "State - Rural, Undetermined                   56\n",
       "State - Urban, All-Way Stop Control          522\n",
       "State - Urban, Minor Leg Stop Control      21099\n",
       "State - Urban, Signalized Intersection      6256\n",
       "State - Urban, Undetermined                  199\n",
       "Name: PeerGroupText_CH2M_Updated_PGs_TCTs, dtype: int64"
      ]
     },
     "execution_count": 4,
     "metadata": {},
     "output_type": "execute_result"
    }
   ],
   "source": [
    "Int_DF.PeerGroupText_CH2M_Updated_PGs_TCTs.value_counts().sort_index()"
   ]
  },
  {
   "cell_type": "code",
   "execution_count": 5,
   "metadata": {},
   "outputs": [
    {
     "data": {
      "text/plain": [
       "0     22692\n",
       "1     26416\n",
       "2      7572\n",
       "3      1339\n",
       "4      1544\n",
       "5      1863\n",
       "6      1653\n",
       "7      1228\n",
       "8     10167\n",
       "9    179047\n",
       "A    102479\n",
       "B       142\n",
       "N      5569\n",
       "Y       287\n",
       "Name: TRAF_CONT, dtype: int64"
      ]
     },
     "execution_count": 5,
     "metadata": {},
     "output_type": "execute_result"
    }
   ],
   "source": [
    "Int_DF.TRAF_CONT.value_counts().sort_index()"
   ]
  },
  {
   "cell_type": "code",
   "execution_count": 6,
   "metadata": {},
   "outputs": [
    {
     "data": {
      "text/plain": [
       "3    245853\n",
       "4    115766\n",
       "5       303\n",
       "6        74\n",
       "8         2\n",
       "Name: LEG_COUNT, dtype: int64"
      ]
     },
     "execution_count": 6,
     "metadata": {},
     "output_type": "execute_result"
    }
   ],
   "source": [
    "Int_DF.LEG_COUNT.value_counts().sort_index()"
   ]
  },
  {
   "cell_type": "code",
   "execution_count": 7,
   "metadata": {},
   "outputs": [
    {
     "data": {
      "text/html": [
       "<div>\n",
       "<style>\n",
       "    .dataframe thead tr:only-child th {\n",
       "        text-align: right;\n",
       "    }\n",
       "\n",
       "    .dataframe thead th {\n",
       "        text-align: left;\n",
       "    }\n",
       "\n",
       "    .dataframe tbody tr th {\n",
       "        vertical-align: top;\n",
       "    }\n",
       "</style>\n",
       "<table border=\"1\" class=\"dataframe\">\n",
       "  <thead>\n",
       "    <tr style=\"text-align: right;\">\n",
       "      <th></th>\n",
       "      <th>TCON_TYP</th>\n",
       "    </tr>\n",
       "  </thead>\n",
       "  <tbody>\n",
       "    <tr>\n",
       "      <th>1.0</th>\n",
       "      <td>132852</td>\n",
       "    </tr>\n",
       "    <tr>\n",
       "      <th>2.0</th>\n",
       "      <td>9202</td>\n",
       "    </tr>\n",
       "    <tr>\n",
       "      <th>3.0</th>\n",
       "      <td>15453</td>\n",
       "    </tr>\n",
       "    <tr>\n",
       "      <th>4.0</th>\n",
       "      <td>274</td>\n",
       "    </tr>\n",
       "    <tr>\n",
       "      <th>5.0</th>\n",
       "      <td>21851</td>\n",
       "    </tr>\n",
       "    <tr>\n",
       "      <th>6.0</th>\n",
       "      <td>177357</td>\n",
       "    </tr>\n",
       "    <tr>\n",
       "      <th>NaN</th>\n",
       "      <td>5009</td>\n",
       "    </tr>\n",
       "  </tbody>\n",
       "</table>\n",
       "</div>"
      ],
      "text/plain": [
       "      TCON_TYP\n",
       " 1.0    132852\n",
       " 2.0      9202\n",
       " 3.0     15453\n",
       " 4.0       274\n",
       " 5.0     21851\n",
       " 6.0    177357\n",
       "NaN       5009"
      ]
     },
     "execution_count": 7,
     "metadata": {},
     "output_type": "execute_result"
    }
   ],
   "source": [
    "print(strftime(\"%Y-%m-%d %H:%M:%S\"))\n",
    "def TCT_Conv(t1,pg):\n",
    "    tct = 6 #Unknown\n",
    "    if pg.find('Minor Leg Stop Control')>0:\n",
    "        tct = 1 #minor stop\n",
    "    elif pg.find('All-Way Stop Control')>0:\n",
    "        tct = 2 #all stop\n",
    "    elif pg.find('Signalized Intersection')>0:\n",
    "        tct = 3 #signal\n",
    "    else:\n",
    "        if t1 in ['1','3','A','B']:\n",
    "            tct = 1\n",
    "        elif t1 in ['2','4']:\n",
    "            tct = 2\n",
    "        elif t1 in ['5','6','7','8']:\n",
    "            tct = 3\n",
    "        elif t1 in ['Y']:\n",
    "            tct = 4\n",
    "        elif t1 in ['0']:\n",
    "            tct = 5\n",
    "        elif t1=='N':\n",
    "            tct = None\n",
    "    inv_st = None #unknown\n",
    "    if tct==1 and t1 in ['1','3']:\n",
    "        inv_st = 1 #Inv stops\n",
    "    if tct==1 and t1 in ['A','B']:\n",
    "        inv_st = 0 #X stops\n",
    "    has_flash = None\n",
    "    if tct in [1,2] and t1 in ['3','B','4']:\n",
    "        has_flash = 1 #has flashing\n",
    "    if tct in [1,2] and t1 in ['1','A','2']:\n",
    "        has_flash = 0 #has flashing\n",
    "    mp = None\n",
    "    if tct in [3] and t1 in ['7','8']:\n",
    "        mp = 1 #has flashing\n",
    "    if tct in [3] and t1 in ['5','6']:\n",
    "        mp = 0 #has flashing\n",
    "    ac = None\n",
    "    if tct in [3] and t1 in ['6','8']:\n",
    "        ac = 1 #has flashing\n",
    "    if tct in [3] and t1 in ['5','7']:\n",
    "        ac = 0 #has flashing\n",
    "    return([tct,inv_st,has_flash,mp,ac])\n",
    "Int_DF['TCON_TYP']     = [TCT_Conv(t,p)[0] for t,p in zip(Int_DF.TRAF_CONT,Int_DF.PeerGroupText_CH2M_Updated_PGs_TCTs)]\n",
    "Int_DF['INV_RT_STOPS'] = [TCT_Conv(t,p)[1] for t,p in zip(Int_DF.TRAF_CONT,Int_DF.PeerGroupText_CH2M_Updated_PGs_TCTs)]\n",
    "Int_DF['HAS_FLASH']    = [TCT_Conv(t,p)[2] for t,p in zip(Int_DF.TRAF_CONT,Int_DF.PeerGroupText_CH2M_Updated_PGs_TCTs)]\n",
    "Int_DF['MULTI_PHASE']  = [TCT_Conv(t,p)[3] for t,p in zip(Int_DF.TRAF_CONT,Int_DF.PeerGroupText_CH2M_Updated_PGs_TCTs)]\n",
    "Int_DF['ACTUATED']     = [TCT_Conv(t,p)[4] for t,p in zip(Int_DF.TRAF_CONT,Int_DF.PeerGroupText_CH2M_Updated_PGs_TCTs)]\n",
    "pd.DataFrame(Int_DF.TCON_TYP.value_counts(dropna=False).sort_index())"
   ]
  },
  {
   "cell_type": "code",
   "execution_count": 8,
   "metadata": {},
   "outputs": [
    {
     "data": {
      "text/html": [
       "<div>\n",
       "<style>\n",
       "    .dataframe thead tr:only-child th {\n",
       "        text-align: right;\n",
       "    }\n",
       "\n",
       "    .dataframe thead th {\n",
       "        text-align: left;\n",
       "    }\n",
       "\n",
       "    .dataframe tbody tr th {\n",
       "        vertical-align: top;\n",
       "    }\n",
       "</style>\n",
       "<table border=\"1\" class=\"dataframe\">\n",
       "  <thead>\n",
       "    <tr style=\"text-align: right;\">\n",
       "      <th>TCT_based_on_IRIS</th>\n",
       "      <th>All-way Stop (2,4)</th>\n",
       "      <th>Minor Stop (1,3,A,B)</th>\n",
       "      <th>Signal (5,6,7,8)</th>\n",
       "      <th>Yeild (Y)</th>\n",
       "      <th>No Device (0)</th>\n",
       "      <th>Not an Intersection (N)</th>\n",
       "      <th>Undetermined (9)</th>\n",
       "    </tr>\n",
       "    <tr>\n",
       "      <th>TCT_based_on_PG</th>\n",
       "      <th></th>\n",
       "      <th></th>\n",
       "      <th></th>\n",
       "      <th></th>\n",
       "      <th></th>\n",
       "      <th></th>\n",
       "      <th></th>\n",
       "    </tr>\n",
       "  </thead>\n",
       "  <tbody>\n",
       "    <tr>\n",
       "      <th>All-way Stop</th>\n",
       "      <td>8956</td>\n",
       "      <td>149</td>\n",
       "      <td>33</td>\n",
       "      <td>11</td>\n",
       "      <td>3</td>\n",
       "      <td>9</td>\n",
       "      <td>41</td>\n",
       "    </tr>\n",
       "    <tr>\n",
       "      <th>Minor Stop</th>\n",
       "      <td>127</td>\n",
       "      <td>129631</td>\n",
       "      <td>210</td>\n",
       "      <td>2</td>\n",
       "      <td>828</td>\n",
       "      <td>508</td>\n",
       "      <td>1529</td>\n",
       "    </tr>\n",
       "    <tr>\n",
       "      <th>Signal</th>\n",
       "      <td>33</td>\n",
       "      <td>579</td>\n",
       "      <td>14666</td>\n",
       "      <td>0</td>\n",
       "      <td>10</td>\n",
       "      <td>43</td>\n",
       "      <td>120</td>\n",
       "    </tr>\n",
       "    <tr>\n",
       "      <th>Undetermined</th>\n",
       "      <td>0</td>\n",
       "      <td>17</td>\n",
       "      <td>2</td>\n",
       "      <td>274</td>\n",
       "      <td>21851</td>\n",
       "      <td>5009</td>\n",
       "      <td>177357</td>\n",
       "    </tr>\n",
       "  </tbody>\n",
       "</table>\n",
       "</div>"
      ],
      "text/plain": [
       "TCT_based_on_IRIS  All-way Stop (2,4)  Minor Stop (1,3,A,B)  Signal (5,6,7,8)  \\\n",
       "TCT_based_on_PG                                                                 \n",
       "All-way Stop                     8956                   149                33   \n",
       "Minor Stop                        127                129631               210   \n",
       "Signal                             33                   579             14666   \n",
       "Undetermined                        0                    17                 2   \n",
       "\n",
       "TCT_based_on_IRIS  Yeild (Y)  No Device (0)  Not an Intersection (N)  \\\n",
       "TCT_based_on_PG                                                        \n",
       "All-way Stop              11              3                        9   \n",
       "Minor Stop                 2            828                      508   \n",
       "Signal                     0             10                       43   \n",
       "Undetermined             274          21851                     5009   \n",
       "\n",
       "TCT_based_on_IRIS  Undetermined (9)  \n",
       "TCT_based_on_PG                      \n",
       "All-way Stop                     41  \n",
       "Minor Stop                     1529  \n",
       "Signal                          120  \n",
       "Undetermined                 177357  "
      ]
     },
     "execution_count": 8,
     "metadata": {},
     "output_type": "execute_result"
    }
   ],
   "source": [
    "print(strftime(\"%Y-%m-%d %H:%M:%S\"))\n",
    "def IRIS_TCT(t1):\n",
    "        if t1 in ['1','3','A','B']:\n",
    "            tct = 'Minor Stop (1,3,A,B)'\n",
    "        elif t1 in ['2','4']:\n",
    "            tct = 'All-way Stop (2,4)'\n",
    "        elif t1 in ['5','6','7','8']:\n",
    "            tct = 'Signal (5,6,7,8)'\n",
    "        elif t1 in ['Y']:\n",
    "            tct = 'Yeild (Y)'\n",
    "        elif t1 in ['0']:\n",
    "            tct = 'No Device (0)'\n",
    "        elif t1=='N':\n",
    "            tct = 'Not an Intersection (N)'\n",
    "        elif t1=='9':\n",
    "            tct = 'Undetermined (9)'\n",
    "        return(tct)\n",
    "def PG_TCT(pg):\n",
    "    if pg.find('Minor Leg Stop Control')>0:\n",
    "        tct = 'Minor Stop' #minor stop\n",
    "    elif pg.find('All-Way Stop Control')>0:\n",
    "        tct = 'All-way Stop' #all stop\n",
    "    elif pg.find('Signalized Intersection')>0:\n",
    "        tct = 'Signal' #signal\n",
    "    else:    \n",
    "        tct = 'Undetermined'\n",
    "    return(tct)\n",
    "Int_DF['TCT_based_on_IRIS'] = [IRIS_TCT(s) for s in Int_DF.TRAF_CONT]\n",
    "Int_DF['TCT_based_on_PG'] = [PG_TCT(s) for s in Int_DF.PeerGroupText_CH2M_Updated_PGs_TCTs]\n",
    "df=pd.DataFrame(Int_DF.groupby(['TCT_based_on_PG','TCT_based_on_IRIS']).size())\n",
    "df = df.unstack()\n",
    "df.columns = df.columns.droplevel(0)\n",
    "df = df[['All-way Stop (2,4)', 'Minor Stop (1,3,A,B)', 'Signal (5,6,7,8)', 'Yeild (Y)', 'No Device (0)', 'Not an Intersection (N)', 'Undetermined (9)']]\n",
    "df = df.fillna(0)\n",
    "df= df.astype(int)\n",
    "df"
   ]
  },
  {
   "cell_type": "code",
   "execution_count": 12,
   "metadata": {},
   "outputs": [
    {
     "name": "stdout",
     "output_type": "stream",
     "text": [
      "2018-11-26 15:46:06\n",
      "(356989, 10)\n",
      "2018-11-26 15:46:18\n"
     ]
    }
   ],
   "source": [
    "print(strftime(\"%Y-%m-%d %H:%M:%S\"))\n",
    "Int_DF_Cleaned = Int_DF[['LEG_COUNT', 'TCON_TYP', 'INV_RT_STOPS', 'HAS_FLASH', 'MULTI_PHASE', 'ACTUATED','MajorRoadN', 'MinorRoadN','X','Y']]\n",
    "Int_DF_Cleaned = Int_DF_Cleaned[~pd.isnull(Int_DF_Cleaned.TCON_TYP)]\n",
    "for f in ['TCON_TYP','INV_RT_STOPS','HAS_FLASH','MULTI_PHASE','ACTUATED']:\n",
    "    Int_DF_Cleaned.loc[:,f] = Int_DF_Cleaned[f].replace(np.NaN,None).astype(int,errors='ignore')\n",
    "Int_DF_Cleaned.to_csv(Project_Dir + '\\\\Intersection_Cleaned\\\\Int_Points_Cleaned.csv')\n",
    "print(Int_DF_Cleaned.shape)\n",
    "print(strftime(\"%Y-%m-%d %H:%M:%S\"))"
   ]
  },
  {
   "cell_type": "code",
   "execution_count": 16,
   "metadata": {},
   "outputs": [
    {
     "name": "stdout",
     "output_type": "stream",
     "text": [
      "2018-11-26 16:30:56\n",
      "[2018-11-26 16:30:56] Add Domains\n",
      "[2018-11-26 16:30:56]  - TCON_TYP\n",
      "[2018-11-26 16:31:04]  - TRAF_CONT\n",
      "[2018-11-26 16:31:21] Done!\n",
      "[2018-11-26 16:38:25]  - Intersection Points 356989\n"
     ]
    }
   ],
   "source": [
    "print(strftime(\"%Y-%m-%d %H:%M:%S\"))\n",
    "hsmpy3.il.AddDomainsToGDB(GDB,replace=False)\n",
    "from hsmpy3.il import domains\n",
    "from hsmpy3 import common\n",
    "GDBDomains = [d.name for d in arcpy.da.ListDomains(GDB)]\n",
    "Int_Points_FC = GDB + '\\\\Int_Points'\n",
    "try:\n",
    "    arcpy.Delete_management(Int_Points_FC)\n",
    "except:\n",
    "    pass\n",
    "arcpy.CreateFeatureclass_management(out_path=GDB,out_name='Int_Points',geometry_type='POINT',has_z='ENABLED',has_m='ENABLED')\n",
    "arcpy.AddField_management(Int_Points_FC,'IID','TEXT')\n",
    "Int_Fields = ['LEG_COUNT', 'TCON_TYP','HAS_FLASH', 'MULTI_PHASE', 'ACTUATED','MajorRoadN', 'MinorRoadN']\n",
    "for f in Int_Fields:\n",
    "        if getattr(domains,f)['name'] in GDBDomains:\n",
    "            arcpy.AddField_management(in_table=Int_Points_FC,\n",
    "                                  field_name=getattr(domains,f)['name'],\n",
    "                                  field_type = getattr(domains,f)['type'],\n",
    "                                  field_alias = getattr(domains,f)['alias'],\n",
    "                                  field_domain=getattr(domains,f)['name']\n",
    "                                 )\n",
    "        else:\n",
    "            arcpy.AddField_management(in_table=Int_Points_FC,\n",
    "                                  field_name=getattr(domains,f)['name'],\n",
    "                                  field_type = getattr(domains,f)['type'],\n",
    "                                  field_alias = getattr(domains,f)['alias']\n",
    "                                 )\n",
    "ic = arcpy.InsertCursor(Int_Points_FC)\n",
    "for i,r in Int_DF_Cleaned.iterrows():\n",
    "        row = ic.newRow()\n",
    "        row.setValue('IID','{}_{:0.3f}'.format(i[0],i[1]))\n",
    "        for f in Int_Fields:\n",
    "            if not pd.isnull(r[f]):\n",
    "                row.setValue(f,r[f])\n",
    "        if not math.isnan(r.X) and not math.isnan(r.Y):\n",
    "            Pt =  arcpy.PointGeometry(arcpy.Point(r.X,r.Y),common.NAD1983IL)\n",
    "            row.shape = Pt\n",
    "        ic.insertRow(row)\n",
    "del ic\n",
    "del row\n",
    "print('[{}]  - Intersection Points {}'.format(strftime(\"%Y-%m-%d %H:%M:%S\"),str(arcpy.GetCount_management(Int_Points_FC))))"
   ]
  },
  {
   "cell_type": "code",
   "execution_count": 3,
   "metadata": {},
   "outputs": [],
   "source": [
    "for year in range(2014,2015):\n",
    "    hsmpy3.il.CON_OverlayIntersections(Project_Dir,\n",
    "                             HSMPY_PATH,\n",
    "                             GDB + '\\\\Int_Points',\n",
    "                             GDB + '\\\\Route_{}'.format(year),\n",
    "                             GDB + '\\\\Att_{}'.format(year),\n",
    "                             year)\n",
    "    time.sleep(10)"
   ]
  }
 ],
 "metadata": {
  "kernelspec": {
   "display_name": "ArcGIS Pro",
   "language": "python",
   "name": "arcgispro"
  },
  "language_info": {
   "codemirror_mode": {
    "name": "ipython",
    "version": 3
   },
   "file_extension": ".py",
   "mimetype": "text/x-python",
   "name": "python",
   "nbconvert_exporter": "python",
   "pygments_lexer": "ipython3",
   "version": "3.5.3"
  }
 },
 "nbformat": 4,
 "nbformat_minor": 2
}
